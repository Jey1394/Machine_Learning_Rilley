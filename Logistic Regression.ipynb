{
 "cells": [
  {
   "cell_type": "code",
   "execution_count": 1,
   "metadata": {},
   "outputs": [],
   "source": [
    "#Import statements\n",
    "import matplotlib\n",
    "import matplotlib.pyplot as plt\n",
    "import numpy as np\n",
    "import pandas as pd\n",
    "import seaborn as sns\n",
    "import statistics\n",
    "import warnings\n",
    "from sklearn.model_selection import train_test_split,ShuffleSplit,cross_val_score\n",
    "from scipy import optimize as op\n",
    "from sklearn.metrics import accuracy_score, roc_auc_score , roc_curve , auc, classification_report, confusion_matrix, mean_squared_error, explained_variance_score \n",
    "from sklearn.preprocessing import StandardScaler\n",
    "from sklearn import linear_model\n",
    "from sklearn.preprocessing import LabelBinarizer\n",
    "warnings.filterwarnings('ignore')"
   ]
  },
  {
   "cell_type": "code",
   "execution_count": 2,
   "metadata": {},
   "outputs": [],
   "source": [
    "#Preprocessing data\n",
    "def preprocess_hazlenuts():\n",
    "    initialdata = pd.read_csv(\"dataset\\hazlenuts.txt\", delimiter='\\t',encoding='latin1', na_values=\"n/a\", index_col = 0)\n",
    "    hazlenut_data = initialdata.T\n",
    "    hazlenut_data.columns = ['Length','width', 'thickness', 'surface_area', 'mass', 'compactness', 'hardness', 'shell_top_radius', 'water_content', 'carbohydrate_content', 'variety']\n",
    "    hazlenut_data.reset_index(inplace=True)\n",
    "    df = hazlenut_data.drop('index', axis=1)\n",
    "    df.head()\n",
    "    return (df, df.iloc[:,-1].unique())"
   ]
  },
  {
   "cell_type": "code",
   "execution_count": 3,
   "metadata": {},
   "outputs": [],
   "source": [
    "def preprocess_generic(path):\n",
    "    \"\"\"\n",
    "    Generic method to read any other dataset assuming rows and columns are in correct order\n",
    "    \"\"\"\n",
    "    rawdata = pd.read_csv(path, delimiter='\\t',encoding='latin1', na_values=\"n/a\", index_col = 0)\n",
    "    df = hazlenut_data.drop('index', axis=1)\n",
    "    df.head()\n",
    "    return (df, df.iloc[:,-1].unique())"
   ]
  },
  {
   "cell_type": "code",
   "execution_count": 4,
   "metadata": {},
   "outputs": [
    {
     "data": {
      "text/html": [
       "<div>\n",
       "<style scoped>\n",
       "    .dataframe tbody tr th:only-of-type {\n",
       "        vertical-align: middle;\n",
       "    }\n",
       "\n",
       "    .dataframe tbody tr th {\n",
       "        vertical-align: top;\n",
       "    }\n",
       "\n",
       "    .dataframe thead th {\n",
       "        text-align: right;\n",
       "    }\n",
       "</style>\n",
       "<table border=\"1\" class=\"dataframe\">\n",
       "  <thead>\n",
       "    <tr style=\"text-align: right;\">\n",
       "      <th></th>\n",
       "      <th>Length</th>\n",
       "      <th>width</th>\n",
       "      <th>thickness</th>\n",
       "      <th>surface_area</th>\n",
       "      <th>mass</th>\n",
       "      <th>compactness</th>\n",
       "      <th>hardness</th>\n",
       "      <th>shell_top_radius</th>\n",
       "      <th>water_content</th>\n",
       "      <th>carbohydrate_content</th>\n",
       "      <th>variety</th>\n",
       "    </tr>\n",
       "  </thead>\n",
       "  <tbody>\n",
       "    <tr>\n",
       "      <th>0</th>\n",
       "      <td>13.86</td>\n",
       "      <td>13.0995</td>\n",
       "      <td>7.349906812</td>\n",
       "      <td>38.1</td>\n",
       "      <td>1439.55</td>\n",
       "      <td>0.93401</td>\n",
       "      <td>8.78</td>\n",
       "      <td>4.7844</td>\n",
       "      <td>0.048826089</td>\n",
       "      <td>0.167</td>\n",
       "      <td>c_avellana</td>\n",
       "    </tr>\n",
       "    <tr>\n",
       "      <th>1</th>\n",
       "      <td>20.53</td>\n",
       "      <td>15.5925</td>\n",
       "      <td>9.565426582</td>\n",
       "      <td>49.89</td>\n",
       "      <td>1623.3</td>\n",
       "      <td>0.96217</td>\n",
       "      <td>5.12</td>\n",
       "      <td>5.2893</td>\n",
       "      <td>0.049521325</td>\n",
       "      <td>0.174</td>\n",
       "      <td>c_americana</td>\n",
       "    </tr>\n",
       "    <tr>\n",
       "      <th>2</th>\n",
       "      <td>14.13</td>\n",
       "      <td>12.222</td>\n",
       "      <td>7.182948645</td>\n",
       "      <td>35.43</td>\n",
       "      <td>1412.25</td>\n",
       "      <td>0.90178</td>\n",
       "      <td>13.694</td>\n",
       "      <td>4.8168</td>\n",
       "      <td>0.049594663</td>\n",
       "      <td>0.167</td>\n",
       "      <td>c_avellana</td>\n",
       "    </tr>\n",
       "    <tr>\n",
       "      <th>3</th>\n",
       "      <td>15.85</td>\n",
       "      <td>14.724</td>\n",
       "      <td>8.622661318</td>\n",
       "      <td>43.29</td>\n",
       "      <td>1512</td>\n",
       "      <td>0.96261</td>\n",
       "      <td>10.925</td>\n",
       "      <td>4.6296</td>\n",
       "      <td>0.050384315</td>\n",
       "      <td>0.173</td>\n",
       "      <td>c_americana</td>\n",
       "    </tr>\n",
       "    <tr>\n",
       "      <th>4</th>\n",
       "      <td>21.11</td>\n",
       "      <td>17.4105</td>\n",
       "      <td>9.680494488</td>\n",
       "      <td>56.25</td>\n",
       "      <td>1698.9</td>\n",
       "      <td>0.98989</td>\n",
       "      <td>11.564</td>\n",
       "      <td>5.3928</td>\n",
       "      <td>0.050905478</td>\n",
       "      <td>0.17</td>\n",
       "      <td>c_cornuta</td>\n",
       "    </tr>\n",
       "  </tbody>\n",
       "</table>\n",
       "</div>"
      ],
      "text/plain": [
       "  Length    width    thickness surface_area     mass compactness hardness  \\\n",
       "0  13.86  13.0995  7.349906812         38.1  1439.55     0.93401     8.78   \n",
       "1  20.53  15.5925  9.565426582        49.89   1623.3     0.96217     5.12   \n",
       "2  14.13   12.222  7.182948645        35.43  1412.25     0.90178   13.694   \n",
       "3  15.85   14.724  8.622661318        43.29     1512     0.96261   10.925   \n",
       "4  21.11  17.4105  9.680494488        56.25   1698.9     0.98989   11.564   \n",
       "\n",
       "  shell_top_radius water_content carbohydrate_content      variety  \n",
       "0           4.7844   0.048826089                0.167   c_avellana  \n",
       "1           5.2893   0.049521325                0.174  c_americana  \n",
       "2           4.8168   0.049594663                0.167   c_avellana  \n",
       "3           4.6296   0.050384315                0.173  c_americana  \n",
       "4           5.3928   0.050905478                 0.17    c_cornuta  "
      ]
     },
     "execution_count": 4,
     "metadata": {},
     "output_type": "execute_result"
    }
   ],
   "source": [
    "#Orgaizing data\n",
    "df, classDetails = preprocess_hazlenuts()\n",
    "df.head()"
   ]
  },
  {
   "cell_type": "code",
   "execution_count": 5,
   "metadata": {},
   "outputs": [],
   "source": [
    "#Number of Samples\n",
    "samples = df.shape[0]\n",
    "\n",
    "#Length of all feature columns\n",
    "n = len(df.columns) - 1\n",
    "\n",
    "#Number of Labels/Classes\n",
    "k = len(classDetails)"
   ]
  },
  {
   "cell_type": "code",
   "execution_count": 6,
   "metadata": {
    "scrolled": true
   },
   "outputs": [],
   "source": [
    "#Initializing an array of 1s as X-features and y-labels using numpys based on the sampling size\n",
    "X = np.ones((samples,n))\n",
    "y = np.array((samples,1))"
   ]
  },
  {
   "cell_type": "code",
   "execution_count": 7,
   "metadata": {},
   "outputs": [],
   "source": [
    "#Setting values for X and y with feature values and labels respectively\n",
    "for i in range(1,n):\n",
    "    X[:,i] = df.iloc[:,i-1]\n",
    "    \n",
    "y = df.iloc[:,-1]"
   ]
  },
  {
   "cell_type": "code",
   "execution_count": 8,
   "metadata": {},
   "outputs": [],
   "source": [
    "#Using Standard Scaler library Standardize features by removing the mean and scaling to unit variance\n",
    "scaler = StandardScaler() \n",
    "scaler.fit(X)\n",
    "X = scaler.transform(X)"
   ]
  },
  {
   "cell_type": "code",
   "execution_count": 9,
   "metadata": {},
   "outputs": [],
   "source": [
    "#Implementation of Logistic Regression\n",
    "\n",
    "#Sigmoid function based on the mathematical formula\n",
    "def sigmoid(t):\n",
    "    \"\"\"\n",
    "    The logistic Regression is represented by a sigmoid function. Returns probability for a class.\n",
    "    Parameters:\n",
    "        t = exponential power which determines the sigmoid function\n",
    "        input to t would be feature values cross product with theta\n",
    "    \"\"\"\n",
    "    return 1.0 / (1 + np.exp(-t))\n",
    "\n",
    "#Regularized cost function \n",
    "def regularized_cost(theta, X, y, alpha):\n",
    "    \"\"\"\n",
    "    Cost function to determine the performance of a model and represent all values as a single real number.\n",
    "    Parameters:\n",
    "        hypothesis = generates values for the sigmoid function for given X\n",
    "        samples = total number of testing samples\n",
    "        alpha = represents the learning rate of the algorithm\n",
    "    \"\"\"\n",
    "    hypothesis = sigmoid(X.dot(theta)) \n",
    "    cost = (1 / samples) * (-y.T.dot(np.log(hypothesis)) - (1 - y).T.dot(np.log(1 - hypothesis))) + (alpha/(2 * samples)) * np.sum(theta**2)\n",
    "    return cost\n",
    "\n",
    "#Regularized gradient function\n",
    "def regularized_gradient_descend(theta, X, y, alpha):\n",
    "    \"\"\"\n",
    "    Gradient Descend function to find the optimal minimal point\n",
    "    Parameters:\n",
    "        m = number of samples\n",
    "        n = number of feature columns\n",
    "        theta = vector of zeros\n",
    "        hypothesis = generates values for a sigmoid function for given X\n",
    "    \"\"\"\n",
    "    m, n = X.shape\n",
    "    theta = theta.reshape((n, 1))\n",
    "    y = y.reshape((m, 1))\n",
    "    hypothesis = sigmoid(X.dot(theta))\n",
    "    return ((1 / m) * X.T.dot(hypothesis - y)) + (alpha * theta /m)\n",
    "\n",
    "#Optimal theta calculation\n",
    "def logistic_regression(X, y, theta, no_of_iterations, alpha):\n",
    "    \"\"\"\n",
    "    Calculating optimal theta value.\n",
    "    Parameters:\n",
    "        no_of_iterations = total number of iterations to calculate the optimal theta value default value is 10000\n",
    "        alpha = learning rate of the model default value is 0.01\n",
    "        X = Stadardized feature values\n",
    "        y = Class Train set\n",
    "    \"\"\"\n",
    "    cost_arr = []\n",
    "    for i in range(no_of_iterations):\n",
    "        cost = regularized_cost(theta, X, y, alpha)\n",
    "        cost = cost.sum(axis = 0)\n",
    "        new_theta = regularized_gradient_descend(theta, X, y, alpha)\n",
    "        theta = theta - new_theta  \n",
    "        cost_arr.append(cost)\n",
    "    return theta, cost_arr"
   ]
  },
  {
   "cell_type": "code",
   "execution_count": 10,
   "metadata": {},
   "outputs": [
    {
     "data": {
      "image/png": "[encoded data removed]",
      "text/plain": [
       "<Figure size 432x288 with 1 Axes>"
      ]
     },
     "metadata": {
      "needs_background": "light"
     },
     "output_type": "display_data"
    }
   ],
   "source": [
    "#Plotting Sigmoid \n",
    "a = np.arange(-10., 10., 0.2)\n",
    "re = []\n",
    "for zz in a:\n",
    "    sig = sigmoid(zz)\n",
    "    re.append(sig)\n",
    "plt.plot(a,re)\n",
    "plt.show()"
   ]
  },
  {
   "cell_type": "code",
   "execution_count": 11,
   "metadata": {
    "scrolled": true
   },
   "outputs": [],
   "source": [
    "def one_versus_all_encoding(classDetails, X_train, y_train, no_of_iterations, alpha):\n",
    "    \"\"\"\n",
    "    Using One vs All encoding to find the optimal theta values for each class \n",
    "    \"\"\"\n",
    "    all_theta = np.zeros((k, n))\n",
    "    i = 0\n",
    "    for variety in classDetails:\n",
    "        tmp_y = np.array(y_train == variety, dtype = int)\n",
    "        optTheta, cost = logistic_regression(X_train, tmp_y, np.zeros((n,1)), no_of_iterations, alpha)\n",
    "        all_theta[i] = optTheta.T\n",
    "        i += 1\n",
    "        #print(cost)\n",
    "    return all_theta"
   ]
  },
  {
   "cell_type": "code",
   "execution_count": 12,
   "metadata": {},
   "outputs": [],
   "source": [
    "def lr_score_predictions(X_train, X_test, y_train, y_test, no_of_iterations = 10000, alpha = 0.001):\n",
    "    \"\"\"\n",
    "    This method predicts all the probability and returns the accuracy score\n",
    "    Parameters:\n",
    "        predictions = Contatins the list of predicted classes\n",
    "        my_score = accuracy score of my model\n",
    "    \"\"\"\n",
    "    #Optimal theta calculation for all classes\n",
    "    all_theta = one_versus_all_encoding(classDetails, X_train, y_train, no_of_iterations, alpha)\n",
    "\n",
    "    #Calculating all probabilities based on the theta values\n",
    "    all_probabilites = sigmoid(X_test.dot(all_theta.T))\n",
    "\n",
    "    #Assigning class labels based on the maximum probabilites coefficients calculated\n",
    "    predictions = [classDetails[np.argmax(all_probabilites[i, :])] for i in range(X_test.shape[0])]\n",
    "    my_score = accuracy_score(y_test, predictions) * 100\n",
    "    return predictions, my_score, all_probabilites"
   ]
  },
  {
   "cell_type": "code",
   "execution_count": 13,
   "metadata": {},
   "outputs": [],
   "source": [
    "def test_lr_cross_validation(iterations=10):\n",
    "    \"\"\"\n",
    "    Method to cross validate the predictions by shuffling the train test split\n",
    "    Returns best fit for train test split along with the accuracy scores of the constructed model with scikit\n",
    "    \"\"\"\n",
    "    model = linear_model.LogisticRegression(multi_class='auto')\n",
    "    my_model = []\n",
    "    scikit_model = []\n",
    "    for i in range(iterations):\n",
    "    #Splitting the train and test cases in the ratio of 1/3\n",
    "        X_train, X_test, y_train, y_test = train_test_split(X, y, test_size = 0.33)\n",
    "\n",
    "        predictions, my_score, all_probabilites = lr_score_predictions(X_train, X_test, y_train, y_test)\n",
    "        #Priting accuracy of the model\n",
    "        print(\"My Model Test Accuracy for run \", i+1, \" \", my_score , '%')\n",
    "        my_model.append(my_score)\n",
    "        if len(my_model) == 1:\n",
    "            optX_train = X_train\n",
    "            optX_test = X_test\n",
    "            opty_train = y_train\n",
    "            opty_test = y_test\n",
    "            score = my_model[-1]\n",
    "        else:\n",
    "            if my_model[-1] >= max(my_model):\n",
    "                optX_train = X_train\n",
    "                optX_test = X_test\n",
    "                opty_train = y_train\n",
    "                opty_test = y_test\n",
    "                score = my_model[-1]\n",
    "           \n",
    "        #Scikit learn model fit and predict\n",
    "        model.fit(X_train,y_train)\n",
    "        model_prediction = model.predict(X_test)\n",
    "        scikit_score = accuracy_score(y_test, model_prediction) * 100\n",
    "        print(\"Scikit Test Accuracy for run \", i+1, \" \", scikit_score , '%')\n",
    "        scikit_model.append(scikit_score)\n",
    "    print(\"My Model Overall Test Accuracy \", statistics.mean(my_model) , '%')\n",
    "    print(\"Scikit Model Overall Test Accuracy \", statistics.mean(scikit_model) , '%')\n",
    "    return optX_train, optX_test, opty_train, opty_test, score, all_probabilites    "
   ]
  },
  {
   "cell_type": "code",
   "execution_count": null,
   "metadata": {},
   "outputs": [
    {
     "name": "stdout",
     "output_type": "stream",
     "text": [
      "My Model Test Accuracy for run  1   92.42424242424242 %\n",
      "Scikit Test Accuracy for run  1   90.9090909090909 %\n",
      "My Model Test Accuracy for run  2   96.96969696969697 %\n",
      "Scikit Test Accuracy for run  2   90.9090909090909 %\n",
      "My Model Test Accuracy for run  3   95.45454545454545 %\n",
      "Scikit Test Accuracy for run  3   92.42424242424242 %\n",
      "My Model Test Accuracy for run  4   95.45454545454545 %\n",
      "Scikit Test Accuracy for run  4   87.87878787878788 %\n",
      "My Model Test Accuracy for run  5   96.96969696969697 %\n",
      "Scikit Test Accuracy for run  5   90.9090909090909 %\n",
      "My Model Test Accuracy for run  6   95.45454545454545 %\n",
      "Scikit Test Accuracy for run  6   86.36363636363636 %\n"
     ]
    }
   ],
   "source": [
    "X_train, X_test, y_train, y_test, score, all_probablities = test_lr_cross_validation(10)"
   ]
  },
  {
   "cell_type": "code",
   "execution_count": null,
   "metadata": {},
   "outputs": [],
   "source": [
    "#Best fit test set\n",
    "predictions, my_score, all_probablities = lr_score_predictions(X_train, X_test, y_train, y_test)"
   ]
  },
  {
   "cell_type": "code",
   "execution_count": null,
   "metadata": {},
   "outputs": [],
   "source": [
    "def createCSV(predictions, y_test):\n",
    "    \"\"\"\n",
    "    Creates a CSV file with actual predictions and model predicted values\n",
    "    \"\"\"\n",
    "    overall=[]\n",
    "    for i in range(len(predictions)):\n",
    "        overall.append([predictions[i], y_test.values[i], 'Matched' if predictions[i] == y_test.values[i] else 'Unmatched'])\n",
    "        Result = pd.DataFrame(overall, columns=[\"Predicted Values\", \"Actual Value\", \"Matched/Unmatched\"])\n",
    "    Result.to_csv('Output.csv', header=True, index=False)"
   ]
  },
  {
   "cell_type": "code",
   "execution_count": null,
   "metadata": {
    "scrolled": true
   },
   "outputs": [],
   "source": [
    "createCSV(predictions, y_test)"
   ]
  },
  {
   "cell_type": "code",
   "execution_count": null,
   "metadata": {},
   "outputs": [],
   "source": [
    "def multiclass_roc_auc_score(y_test, y_pred , all_probablities, average=\"macro\",classes=k):\n",
    "    \"\"\"\n",
    "    This method returns the ROC score.\n",
    "    Reference: https://scikit-learn.org/stable/auto_examples/model_selection/plot_roc.html\n",
    "    \"\"\"\n",
    "    y_test = list(y_test)\n",
    "    y_pred = list(y_pred)\n",
    "    label = LabelBinarizer()\n",
    "    label.fit(y_test)\n",
    "    y_test = label.transform(y_test)\n",
    "    y_pred = label.transform(y_pred)\n",
    "    fpr = dict()\n",
    "    tpr = dict()\n",
    "    roc_auc = dict()\n",
    "    for i in range(classes):\n",
    "        y_ = [y[i] for y in all_probablities ]\n",
    "        fpr[i], tpr[i], _ = roc_curve(y_test[:, i], y_)\n",
    "        roc_auc[i] = auc(fpr[i], tpr[i])\n",
    "    return roc_auc_score(y_test, y_pred, average=average) , (fpr,tpr,roc_auc)"
   ]
  },
  {
   "cell_type": "code",
   "execution_count": null,
   "metadata": {},
   "outputs": [],
   "source": [
    "def plotting_roc(fpr, tpr, roc):\n",
    "    \"\"\"\n",
    "    This method is used for Plotting ROC for all classes\n",
    "    Reference: https://scikit-learn.org/stable/auto_examples/model_selection/plot_roc.html\n",
    "    \"\"\"\n",
    "    all_fpr = np.unique(np.concatenate([fpr[i] for i in range(k)]))\n",
    "    mean_tpr = np.zeros_like(all_fpr)\n",
    "    for i in range(k):\n",
    "        mean_tpr += np.interp(all_fpr, fpr[i], tpr[i])\n",
    "    mean_tpr /= k\n",
    "    for i in range(k):\n",
    "        plt.plot(fpr[i],tpr[i],label='ROC = for %s %s' % (classDetails[i] , roc[i] * 100))\n",
    "    \n",
    "    plt.legend(loc=\"top right\")\n",
    "    plt.show()"
   ]
  },
  {
   "cell_type": "code",
   "execution_count": null,
   "metadata": {},
   "outputs": [],
   "source": [
    "micro_roc , micro_additional_roc  = multiclass_roc_auc_score(y_test, predictions ,all_probablities, average=\"micro\")\n",
    "roc , additional_roc  = multiclass_roc_auc_score(y_test, predictions ,all_probablities)"
   ]
  },
  {
   "cell_type": "code",
   "execution_count": null,
   "metadata": {},
   "outputs": [],
   "source": [
    "print('Micro Average ROC calculation', micro_roc)\n",
    "print('Macro Average ROC calculation', roc)\n",
    "print('Accuracy', my_score)"
   ]
  },
  {
   "cell_type": "code",
   "execution_count": null,
   "metadata": {},
   "outputs": [],
   "source": [
    "print('Classification Report for my model', classification_report(y_test,predictions))"
   ]
  },
  {
   "cell_type": "code",
   "execution_count": null,
   "metadata": {},
   "outputs": [],
   "source": [
    "fpr, tpr, roc = additional_roc\n",
    "plotting_roc(fpr, tpr, roc)"
   ]
  },
  {
   "cell_type": "code",
   "execution_count": null,
   "metadata": {},
   "outputs": [],
   "source": [
    "cfm = confusion_matrix(y_test, predictions, labels = classDetails)\n",
    "sns.heatmap(cfm, annot = True, xticklabels = classDetails, yticklabels = classDetails);"
   ]
  },
  {
   "cell_type": "code",
   "execution_count": null,
   "metadata": {},
   "outputs": [],
   "source": [
    "#Plotting ROC for Scikit model\n",
    "model = linear_model.LogisticRegression(multi_class='auto')\n",
    "model.fit(X_train,y_train)\n",
    "model_prediction = model.predict(X_test)\n",
    "pred = model.predict_proba(X_test)"
   ]
  },
  {
   "cell_type": "code",
   "execution_count": null,
   "metadata": {},
   "outputs": [],
   "source": [
    "micro_scikit_roc , micro_scikit_additional_roc  = multiclass_roc_auc_score(y_test, model_prediction ,pred, average=\"micro\")\n",
    "scikit_roc , scikit_additional_roc  = multiclass_roc_auc_score(y_test, model_prediction ,pred)"
   ]
  },
  {
   "cell_type": "code",
   "execution_count": null,
   "metadata": {},
   "outputs": [],
   "source": [
    "print('Micro Average ROC calculation', micro_scikit_roc)\n",
    "print('Macro Average ROC calculation', scikit_roc)\n",
    "print('Accuracy', accuracy_score(y_test, model_prediction)*100)"
   ]
  },
  {
   "cell_type": "code",
   "execution_count": null,
   "metadata": {},
   "outputs": [],
   "source": [
    "print('Classification Report for scikit model', classification_report(y_test,model_prediction))"
   ]
  },
  {
   "cell_type": "code",
   "execution_count": null,
   "metadata": {},
   "outputs": [],
   "source": [
    "fpr, tpr, roc = scikit_additional_roc\n",
    "m_fpr, m_tpr, m_roc = micro_scikit_additional_roc\n",
    "plotting_roc(fpr, tpr, roc)"
   ]
  },
  {
   "cell_type": "code",
   "execution_count": null,
   "metadata": {},
   "outputs": [],
   "source": [
    "cfm = confusion_matrix(y_test, model_prediction, labels = classDetails)\n",
    "sns.heatmap(cfm, annot = True, xticklabels = classDetails, yticklabels = classDetails);"
   ]
  },
  {
   "cell_type": "code",
   "execution_count": null,
   "metadata": {},
   "outputs": [],
   "source": []
  }
 ],
 "metadata": {
  "kernelspec": {
   "display_name": "Python 3",
   "language": "python",
   "name": "python3"
  },
  "language_info": {
   "codemirror_mode": {
    "name": "ipython",
    "version": 3
   },
   "file_extension": ".py",
   "mimetype": "text/x-python",
   "name": "python",
   "nbconvert_exporter": "python",
   "pygments_lexer": "ipython3",
   "version": "3.7.3"
  }
 },
 "nbformat": 4,
 "nbformat_minor": 2
}
