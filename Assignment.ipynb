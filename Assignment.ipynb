{
 "cells": [
  {
   "cell_type": "code",
   "execution_count": 1,
   "metadata": {},
   "outputs": [],
   "source": [
    "import matplotlib\n",
    "import matplotlib.pyplot as plt\n",
    "import numpy as np\n",
    "import pandas as pd\n",
    "import seaborn as sns"
   ]
  },
  {
   "cell_type": "code",
   "execution_count": 2,
   "metadata": {},
   "outputs": [
    {
     "data": {
      "text/html": [
       "<div>\n",
       "<style scoped>\n",
       "    .dataframe tbody tr th:only-of-type {\n",
       "        vertical-align: middle;\n",
       "    }\n",
       "\n",
       "    .dataframe tbody tr th {\n",
       "        vertical-align: top;\n",
       "    }\n",
       "\n",
       "    .dataframe thead th {\n",
       "        text-align: right;\n",
       "    }\n",
       "</style>\n",
       "<table border=\"1\" class=\"dataframe\">\n",
       "  <thead>\n",
       "    <tr style=\"text-align: right;\">\n",
       "      <th></th>\n",
       "      <th>72</th>\n",
       "      <th>1</th>\n",
       "      <th>73</th>\n",
       "      <th>2</th>\n",
       "      <th>136</th>\n",
       "      <th>74</th>\n",
       "      <th>75</th>\n",
       "      <th>3</th>\n",
       "      <th>137</th>\n",
       "      <th>138</th>\n",
       "      <th>...</th>\n",
       "      <th>67</th>\n",
       "      <th>68</th>\n",
       "      <th>197</th>\n",
       "      <th>69</th>\n",
       "      <th>135</th>\n",
       "      <th>198</th>\n",
       "      <th>199</th>\n",
       "      <th>70</th>\n",
       "      <th>200</th>\n",
       "      <th>201</th>\n",
       "    </tr>\n",
       "    <tr>\n",
       "      <th>71</th>\n",
       "      <th></th>\n",
       "      <th></th>\n",
       "      <th></th>\n",
       "      <th></th>\n",
       "      <th></th>\n",
       "      <th></th>\n",
       "      <th></th>\n",
       "      <th></th>\n",
       "      <th></th>\n",
       "      <th></th>\n",
       "      <th></th>\n",
       "      <th></th>\n",
       "      <th></th>\n",
       "      <th></th>\n",
       "      <th></th>\n",
       "      <th></th>\n",
       "      <th></th>\n",
       "      <th></th>\n",
       "      <th></th>\n",
       "      <th></th>\n",
       "      <th></th>\n",
       "    </tr>\n",
       "  </thead>\n",
       "  <tbody>\n",
       "    <tr>\n",
       "      <th>11.67</th>\n",
       "      <td>13.86</td>\n",
       "      <td>20.53</td>\n",
       "      <td>14.13</td>\n",
       "      <td>15.85</td>\n",
       "      <td>21.11</td>\n",
       "      <td>25.13</td>\n",
       "      <td>15.41</td>\n",
       "      <td>16.09</td>\n",
       "      <td>19.78</td>\n",
       "      <td>22.19</td>\n",
       "      <td>...</td>\n",
       "      <td>17.57</td>\n",
       "      <td>18.33</td>\n",
       "      <td>13.33</td>\n",
       "      <td>13.76</td>\n",
       "      <td>11.37</td>\n",
       "      <td>9.02</td>\n",
       "      <td>17.62</td>\n",
       "      <td>15.85</td>\n",
       "      <td>21.83</td>\n",
       "      <td>21.13</td>\n",
       "    </tr>\n",
       "    <tr>\n",
       "      <th>12.8025</th>\n",
       "      <td>13.0995</td>\n",
       "      <td>15.5925</td>\n",
       "      <td>12.222</td>\n",
       "      <td>14.724</td>\n",
       "      <td>17.4105</td>\n",
       "      <td>16.9785</td>\n",
       "      <td>13.8285</td>\n",
       "      <td>14.211</td>\n",
       "      <td>16.173</td>\n",
       "      <td>16.578</td>\n",
       "      <td>...</td>\n",
       "      <td>15.1695</td>\n",
       "      <td>15.3945</td>\n",
       "      <td>13.356</td>\n",
       "      <td>14.1975</td>\n",
       "      <td>13.4145</td>\n",
       "      <td>12.9555</td>\n",
       "      <td>15.2415</td>\n",
       "      <td>14.175</td>\n",
       "      <td>17.559</td>\n",
       "      <td>17.514</td>\n",
       "    </tr>\n",
       "    <tr>\n",
       "      <th>8.055074738</th>\n",
       "      <td>7.349906812</td>\n",
       "      <td>9.565426582</td>\n",
       "      <td>7.182948645</td>\n",
       "      <td>8.622661318</td>\n",
       "      <td>9.680494488</td>\n",
       "      <td>9.931461322</td>\n",
       "      <td>8.078300047</td>\n",
       "      <td>8.16274649</td>\n",
       "      <td>9.75182248</td>\n",
       "      <td>9.920309777</td>\n",
       "      <td>...</td>\n",
       "      <td>9.098228491</td>\n",
       "      <td>9.469039277</td>\n",
       "      <td>7.875741111</td>\n",
       "      <td>7.960626109</td>\n",
       "      <td>8.149840497</td>\n",
       "      <td>7.572287267</td>\n",
       "      <td>8.850863182</td>\n",
       "      <td>8.861027239</td>\n",
       "      <td>9.828308399</td>\n",
       "      <td>9.837131822</td>\n",
       "    </tr>\n",
       "    <tr>\n",
       "      <th>34.65</th>\n",
       "      <td>38.1</td>\n",
       "      <td>49.89</td>\n",
       "      <td>35.43</td>\n",
       "      <td>43.29</td>\n",
       "      <td>56.25</td>\n",
       "      <td>60.48</td>\n",
       "      <td>39.96</td>\n",
       "      <td>42.03</td>\n",
       "      <td>51.78</td>\n",
       "      <td>56.16</td>\n",
       "      <td>...</td>\n",
       "      <td>46.47</td>\n",
       "      <td>48.57</td>\n",
       "      <td>37.65</td>\n",
       "      <td>41.4</td>\n",
       "      <td>36.57</td>\n",
       "      <td>33.69</td>\n",
       "      <td>48.51</td>\n",
       "      <td>41.82</td>\n",
       "      <td>57.39</td>\n",
       "      <td>58.38</td>\n",
       "    </tr>\n",
       "    <tr>\n",
       "      <th>1375.5</th>\n",
       "      <td>1439.55</td>\n",
       "      <td>1623.3</td>\n",
       "      <td>1412.25</td>\n",
       "      <td>1512</td>\n",
       "      <td>1698.9</td>\n",
       "      <td>1788.15</td>\n",
       "      <td>1463.7</td>\n",
       "      <td>1500.45</td>\n",
       "      <td>1651.65</td>\n",
       "      <td>1715.7</td>\n",
       "      <td>...</td>\n",
       "      <td>1568.7</td>\n",
       "      <td>1591.8</td>\n",
       "      <td>1424.85</td>\n",
       "      <td>1474.2</td>\n",
       "      <td>1386</td>\n",
       "      <td>1326.15</td>\n",
       "      <td>1614.9</td>\n",
       "      <td>1487.85</td>\n",
       "      <td>1712.55</td>\n",
       "      <td>1732.5</td>\n",
       "    </tr>\n",
       "  </tbody>\n",
       "</table>\n",
       "<p>5 rows × 200 columns</p>\n",
       "</div>"
      ],
      "text/plain": [
       "                      72            1           73            2          136  \\\n",
       "71                                                                             \n",
       "11.67              13.86        20.53        14.13        15.85        21.11   \n",
       "12.8025          13.0995      15.5925       12.222       14.724      17.4105   \n",
       "8.055074738  7.349906812  9.565426582  7.182948645  8.622661318  9.680494488   \n",
       "34.65               38.1        49.89        35.43        43.29        56.25   \n",
       "1375.5           1439.55       1623.3      1412.25         1512       1698.9   \n",
       "\n",
       "                      74           75           3         137          138  \\\n",
       "71                                                                           \n",
       "11.67              25.13        15.41       16.09       19.78        22.19   \n",
       "12.8025          16.9785      13.8285      14.211      16.173       16.578   \n",
       "8.055074738  9.931461322  8.078300047  8.16274649  9.75182248  9.920309777   \n",
       "34.65              60.48        39.96       42.03       51.78        56.16   \n",
       "1375.5           1788.15       1463.7     1500.45     1651.65       1715.7   \n",
       "\n",
       "             ...           67           68          197           69  \\\n",
       "71           ...                                                       \n",
       "11.67        ...        17.57        18.33        13.33        13.76   \n",
       "12.8025      ...      15.1695      15.3945       13.356      14.1975   \n",
       "8.055074738  ...  9.098228491  9.469039277  7.875741111  7.960626109   \n",
       "34.65        ...        46.47        48.57        37.65         41.4   \n",
       "1375.5       ...       1568.7       1591.8      1424.85       1474.2   \n",
       "\n",
       "                     135          198          199           70          200  \\\n",
       "71                                                                             \n",
       "11.67              11.37         9.02        17.62        15.85        21.83   \n",
       "12.8025          13.4145      12.9555      15.2415       14.175       17.559   \n",
       "8.055074738  8.149840497  7.572287267  8.850863182  8.861027239  9.828308399   \n",
       "34.65              36.57        33.69        48.51        41.82        57.39   \n",
       "1375.5              1386      1326.15       1614.9      1487.85      1712.55   \n",
       "\n",
       "                     201  \n",
       "71                        \n",
       "11.67              21.13  \n",
       "12.8025           17.514  \n",
       "8.055074738  9.837131822  \n",
       "34.65              58.38  \n",
       "1375.5            1732.5  \n",
       "\n",
       "[5 rows x 200 columns]"
      ]
     },
     "execution_count": 2,
     "metadata": {},
     "output_type": "execute_result"
    }
   ],
   "source": [
    "#Loading the data\n",
    "hazlenuts_rawdata = pd.read_csv(\"dataset/hazlenuts.txt\", delimiter='\\t',encoding='latin1', na_values=\"n/a\", index_col = 0)\n",
    "hazlenuts_rawdata.head()"
   ]
  },
  {
   "cell_type": "code",
   "execution_count": 3,
   "metadata": {},
   "outputs": [
    {
     "data": {
      "text/html": [
       "<div>\n",
       "<style scoped>\n",
       "    .dataframe tbody tr th:only-of-type {\n",
       "        vertical-align: middle;\n",
       "    }\n",
       "\n",
       "    .dataframe tbody tr th {\n",
       "        vertical-align: top;\n",
       "    }\n",
       "\n",
       "    .dataframe thead th {\n",
       "        text-align: right;\n",
       "    }\n",
       "</style>\n",
       "<table border=\"1\" class=\"dataframe\">\n",
       "  <thead>\n",
       "    <tr style=\"text-align: right;\">\n",
       "      <th></th>\n",
       "      <th>Length</th>\n",
       "      <th>width</th>\n",
       "      <th>thickness</th>\n",
       "      <th>surface_area</th>\n",
       "      <th>mass</th>\n",
       "      <th>compactness</th>\n",
       "      <th>hardness</th>\n",
       "      <th>shell_top_radius</th>\n",
       "      <th>water_content</th>\n",
       "      <th>carbohydrate_content</th>\n",
       "      <th>variety</th>\n",
       "    </tr>\n",
       "  </thead>\n",
       "  <tbody>\n",
       "    <tr>\n",
       "      <th>0</th>\n",
       "      <td>13.86</td>\n",
       "      <td>13.0995</td>\n",
       "      <td>7.349906812</td>\n",
       "      <td>38.1</td>\n",
       "      <td>1439.55</td>\n",
       "      <td>0.93401</td>\n",
       "      <td>8.78</td>\n",
       "      <td>4.7844</td>\n",
       "      <td>0.048826089</td>\n",
       "      <td>0.167</td>\n",
       "      <td>c_avellana</td>\n",
       "    </tr>\n",
       "    <tr>\n",
       "      <th>1</th>\n",
       "      <td>20.53</td>\n",
       "      <td>15.5925</td>\n",
       "      <td>9.565426582</td>\n",
       "      <td>49.89</td>\n",
       "      <td>1623.3</td>\n",
       "      <td>0.96217</td>\n",
       "      <td>5.12</td>\n",
       "      <td>5.2893</td>\n",
       "      <td>0.049521325</td>\n",
       "      <td>0.174</td>\n",
       "      <td>c_americana</td>\n",
       "    </tr>\n",
       "    <tr>\n",
       "      <th>2</th>\n",
       "      <td>14.13</td>\n",
       "      <td>12.222</td>\n",
       "      <td>7.182948645</td>\n",
       "      <td>35.43</td>\n",
       "      <td>1412.25</td>\n",
       "      <td>0.90178</td>\n",
       "      <td>13.694</td>\n",
       "      <td>4.8168</td>\n",
       "      <td>0.049594663</td>\n",
       "      <td>0.167</td>\n",
       "      <td>c_avellana</td>\n",
       "    </tr>\n",
       "    <tr>\n",
       "      <th>3</th>\n",
       "      <td>15.85</td>\n",
       "      <td>14.724</td>\n",
       "      <td>8.622661318</td>\n",
       "      <td>43.29</td>\n",
       "      <td>1512</td>\n",
       "      <td>0.96261</td>\n",
       "      <td>10.925</td>\n",
       "      <td>4.6296</td>\n",
       "      <td>0.050384315</td>\n",
       "      <td>0.173</td>\n",
       "      <td>c_americana</td>\n",
       "    </tr>\n",
       "    <tr>\n",
       "      <th>4</th>\n",
       "      <td>21.11</td>\n",
       "      <td>17.4105</td>\n",
       "      <td>9.680494488</td>\n",
       "      <td>56.25</td>\n",
       "      <td>1698.9</td>\n",
       "      <td>0.98989</td>\n",
       "      <td>11.564</td>\n",
       "      <td>5.3928</td>\n",
       "      <td>0.050905478</td>\n",
       "      <td>0.17</td>\n",
       "      <td>c_cornuta</td>\n",
       "    </tr>\n",
       "  </tbody>\n",
       "</table>\n",
       "</div>"
      ],
      "text/plain": [
       "  Length    width    thickness surface_area     mass compactness hardness  \\\n",
       "0  13.86  13.0995  7.349906812         38.1  1439.55     0.93401     8.78   \n",
       "1  20.53  15.5925  9.565426582        49.89   1623.3     0.96217     5.12   \n",
       "2  14.13   12.222  7.182948645        35.43  1412.25     0.90178   13.694   \n",
       "3  15.85   14.724  8.622661318        43.29     1512     0.96261   10.925   \n",
       "4  21.11  17.4105  9.680494488        56.25   1698.9     0.98989   11.564   \n",
       "\n",
       "  shell_top_radius water_content carbohydrate_content      variety  \n",
       "0           4.7844   0.048826089                0.167   c_avellana  \n",
       "1           5.2893   0.049521325                0.174  c_americana  \n",
       "2           4.8168   0.049594663                0.167   c_avellana  \n",
       "3           4.6296   0.050384315                0.173  c_americana  \n",
       "4           5.3928   0.050905478                 0.17    c_cornuta  "
      ]
     },
     "execution_count": 3,
     "metadata": {},
     "output_type": "execute_result"
    }
   ],
   "source": [
    "#Ordering data by naming columns and creating index\n",
    "unindexed_data = hazlenuts_rawdata.T\n",
    "unindexed_data.head()\n",
    "unindexed_data.columns = ['Length','width', 'thickness', 'surface_area', 'mass', 'compactness', 'hardness', 'shell_top_radius', 'water_content', 'carbohydrate_content', 'variety']\n",
    "unindexed_data.reset_index(inplace=True)\n",
    "df = unindexed_data.drop('index', axis=1)\n",
    "df.head()"
   ]
  },
  {
   "cell_type": "code",
   "execution_count": 4,
   "metadata": {},
   "outputs": [],
   "source": [
    "from sklearn.preprocessing import StandardScaler"
   ]
  },
  {
   "cell_type": "code",
   "execution_count": 5,
   "metadata": {},
   "outputs": [],
   "source": [
    "#Standardizing all the features\n",
    "scaler = StandardScaler() "
   ]
  },
  {
   "cell_type": "code",
   "execution_count": 6,
   "metadata": {},
   "outputs": [
    {
     "data": {
      "text/plain": [
       "StandardScaler(copy=True, with_mean=True, with_std=True)"
      ]
     },
     "execution_count": 6,
     "metadata": {},
     "output_type": "execute_result"
    }
   ],
   "source": [
    "scaler.fit(df.drop('variety', axis = 1))"
   ]
  },
  {
   "cell_type": "code",
   "execution_count": 7,
   "metadata": {},
   "outputs": [],
   "source": [
    "scaledfeatures = scaler.transform(df.drop('variety', axis = 1))"
   ]
  },
  {
   "cell_type": "code",
   "execution_count": 8,
   "metadata": {},
   "outputs": [
    {
     "data": {
      "text/plain": [
       "(200, 10)"
      ]
     },
     "execution_count": 8,
     "metadata": {},
     "output_type": "execute_result"
    }
   ],
   "source": [
    "scaledfeatures.shape"
   ]
  },
  {
   "cell_type": "code",
   "execution_count": 9,
   "metadata": {},
   "outputs": [],
   "source": [
    "#Feature Extraction for training\n",
    "df_features = pd.DataFrame(scaledfeatures, columns = df.columns[:-1])"
   ]
  },
  {
   "cell_type": "code",
   "execution_count": 10,
   "metadata": {
    "scrolled": true
   },
   "outputs": [
    {
     "data": {
      "text/html": [
       "<div>\n",
       "<style scoped>\n",
       "    .dataframe tbody tr th:only-of-type {\n",
       "        vertical-align: middle;\n",
       "    }\n",
       "\n",
       "    .dataframe tbody tr th {\n",
       "        vertical-align: top;\n",
       "    }\n",
       "\n",
       "    .dataframe thead th {\n",
       "        text-align: right;\n",
       "    }\n",
       "</style>\n",
       "<table border=\"1\" class=\"dataframe\">\n",
       "  <thead>\n",
       "    <tr style=\"text-align: right;\">\n",
       "      <th></th>\n",
       "      <th>Length</th>\n",
       "      <th>width</th>\n",
       "      <th>thickness</th>\n",
       "      <th>surface_area</th>\n",
       "      <th>mass</th>\n",
       "      <th>compactness</th>\n",
       "      <th>hardness</th>\n",
       "      <th>shell_top_radius</th>\n",
       "      <th>water_content</th>\n",
       "      <th>carbohydrate_content</th>\n",
       "    </tr>\n",
       "  </thead>\n",
       "  <tbody>\n",
       "    <tr>\n",
       "      <th>0</th>\n",
       "      <td>-0.553085</td>\n",
       "      <td>-0.953393</td>\n",
       "      <td>-1.348758</td>\n",
       "      <td>-0.758676</td>\n",
       "      <td>-0.666070</td>\n",
       "      <td>-0.993078</td>\n",
       "      <td>-0.269580</td>\n",
       "      <td>-0.172495</td>\n",
       "      <td>-1.693256</td>\n",
       "      <td>-1.293885</td>\n",
       "    </tr>\n",
       "    <tr>\n",
       "      <th>1</th>\n",
       "      <td>0.988301</td>\n",
       "      <td>0.530863</td>\n",
       "      <td>0.933805</td>\n",
       "      <td>0.610694</td>\n",
       "      <td>0.694684</td>\n",
       "      <td>0.110989</td>\n",
       "      <td>-1.080075</td>\n",
       "      <td>0.988303</td>\n",
       "      <td>-1.647017</td>\n",
       "      <td>1.144122</td>\n",
       "    </tr>\n",
       "    <tr>\n",
       "      <th>2</th>\n",
       "      <td>-0.490690</td>\n",
       "      <td>-1.475830</td>\n",
       "      <td>-1.520768</td>\n",
       "      <td>-1.068788</td>\n",
       "      <td>-0.868239</td>\n",
       "      <td>-2.256716</td>\n",
       "      <td>0.818609</td>\n",
       "      <td>-0.098006</td>\n",
       "      <td>-1.642140</td>\n",
       "      <td>-1.293885</td>\n",
       "    </tr>\n",
       "    <tr>\n",
       "      <th>3</th>\n",
       "      <td>-0.093211</td>\n",
       "      <td>0.013784</td>\n",
       "      <td>-0.037489</td>\n",
       "      <td>-0.155875</td>\n",
       "      <td>-0.129544</td>\n",
       "      <td>0.128240</td>\n",
       "      <td>0.205423</td>\n",
       "      <td>-0.528391</td>\n",
       "      <td>-1.589622</td>\n",
       "      <td>0.795835</td>\n",
       "    </tr>\n",
       "    <tr>\n",
       "      <th>4</th>\n",
       "      <td>1.122334</td>\n",
       "      <td>1.613244</td>\n",
       "      <td>1.052355</td>\n",
       "      <td>1.349387</td>\n",
       "      <td>1.254537</td>\n",
       "      <td>1.197804</td>\n",
       "      <td>0.346928</td>\n",
       "      <td>1.226256</td>\n",
       "      <td>-1.554961</td>\n",
       "      <td>-0.249025</td>\n",
       "    </tr>\n",
       "  </tbody>\n",
       "</table>\n",
       "</div>"
      ],
      "text/plain": [
       "     Length     width  thickness  surface_area      mass  compactness  \\\n",
       "0 -0.553085 -0.953393  -1.348758     -0.758676 -0.666070    -0.993078   \n",
       "1  0.988301  0.530863   0.933805      0.610694  0.694684     0.110989   \n",
       "2 -0.490690 -1.475830  -1.520768     -1.068788 -0.868239    -2.256716   \n",
       "3 -0.093211  0.013784  -0.037489     -0.155875 -0.129544     0.128240   \n",
       "4  1.122334  1.613244   1.052355      1.349387  1.254537     1.197804   \n",
       "\n",
       "   hardness  shell_top_radius  water_content  carbohydrate_content  \n",
       "0 -0.269580         -0.172495      -1.693256             -1.293885  \n",
       "1 -1.080075          0.988303      -1.647017              1.144122  \n",
       "2  0.818609         -0.098006      -1.642140             -1.293885  \n",
       "3  0.205423         -0.528391      -1.589622              0.795835  \n",
       "4  0.346928          1.226256      -1.554961             -0.249025  "
      ]
     },
     "execution_count": 10,
     "metadata": {},
     "output_type": "execute_result"
    }
   ],
   "source": [
    "df_features.head()"
   ]
  },
  {
   "cell_type": "code",
   "execution_count": 11,
   "metadata": {},
   "outputs": [],
   "source": [
    "from sklearn.model_selection import train_test_split"
   ]
  },
  {
   "cell_type": "code",
   "execution_count": 13,
   "metadata": {},
   "outputs": [
    {
     "name": "stdout",
     "output_type": "stream",
     "text": [
      "['c_cornuta', 'c_americana', 'c_avellana']\n"
     ]
    }
   ],
   "source": [
    "#Creating training and test data\n",
    "X = np.array(df_features)\n",
    "y = np.array(df['variety'])\n",
    "X_train, X_test, y_train, y_test = train_test_split(X, y, random_state = 42)\n",
    "variety_names_set = set(df['variety'])\n",
    "variety_names = list(variety_names_set)\n",
    "print(variety_names)"
   ]
  },
  {
   "cell_type": "code",
   "execution_count": 14,
   "metadata": {},
   "outputs": [],
   "source": [
    "from sklearn.model_selection import cross_val_score\n",
    "from sklearn.neighbors import KNeighborsClassifier\n",
    "from sklearn.metrics import classification_report,confusion_matrix"
   ]
  },
  {
   "cell_type": "code",
   "execution_count": 15,
   "metadata": {},
   "outputs": [],
   "source": [
    "#Program to print heatmap for a confusion matrix\n",
    "def print_confusion_matrix(confusion_matrix, class_names, fontsize=14):\n",
    "    df_cm = pd.DataFrame(\n",
    "        confusion_matrix, index=class_names, columns=class_names, \n",
    "    )\n",
    "    try:\n",
    "        heatmap = sns.heatmap(df_cm, annot=True, fmt=\"d\")\n",
    "    except ValueError:\n",
    "        raise ValueError(\"Confusion matrix values must be integers.\")\n",
    "    heatmap.yaxis.set_ticklabels(heatmap.yaxis.get_ticklabels(), rotation=0, ha='right', fontsize=fontsize)\n",
    "    heatmap.xaxis.set_ticklabels(heatmap.xaxis.get_ticklabels(), rotation=45, ha='right', fontsize=fontsize)\n",
    "    plt.ylabel('True label')\n",
    "    plt.xlabel('Predicted label')\n",
    "    return heatmap"
   ]
  },
  {
   "cell_type": "code",
   "execution_count": 16,
   "metadata": {},
   "outputs": [],
   "source": [
    "from sklearn.model_selection import cross_val_score\n",
    "from sklearn.model_selection import StratifiedKFold\n",
    "from sklearn.linear_model import LogisticRegression\n",
    "from sklearn.tree import DecisionTreeClassifier\n",
    "from sklearn.neighbors import KNeighborsClassifier\n",
    "from sklearn.discriminant_analysis import LinearDiscriminantAnalysis\n",
    "from sklearn.naive_bayes import GaussianNB"
   ]
  },
  {
   "cell_type": "code",
   "execution_count": 17,
   "metadata": {},
   "outputs": [
    {
     "name": "stdout",
     "output_type": "stream",
     "text": [
      "Cross Validation Scores\n",
      " [0.8666666666666668, 0.9, 0.8933333333333333, 0.8800000000000001, 0.8866666666666667, 0.8866666666666667, 0.9, 0.8866666666666667, 0.8799999999999999, 0.9, 0.9, 0.8933333333333332, 0.8866666666666665, 0.8933333333333332, 0.8866666666666665, 0.8933333333333333, 0.8866666666666665, 0.8933333333333333, 0.8866666666666667, 0.8866666666666667, 0.8866666666666667, 0.8933333333333333, 0.9, 0.8933333333333333, 0.9]\n",
      "Error scores\n",
      " [0.1333333333333332, 0.09999999999999998, 0.10666666666666669, 0.11999999999999988, 0.11333333333333329, 0.11333333333333329, 0.09999999999999998, 0.11333333333333329, 0.1200000000000001, 0.09999999999999998, 0.09999999999999998, 0.1066666666666668, 0.11333333333333351, 0.1066666666666668, 0.11333333333333351, 0.10666666666666669, 0.11333333333333351, 0.10666666666666669, 0.11333333333333329, 0.11333333333333329, 0.11333333333333329, 0.10666666666666669, 0.09999999999999998, 0.10666666666666669, 0.09999999999999998]\n",
      "The value of n is 3\n",
      "Accuracy 90.0\n"
     ]
    }
   ],
   "source": [
    "# creating odd list of K for KNN\n",
    "neighbors = list(range(1, 50, 2))\n",
    "\n",
    "# empty list that will hold cv scores\n",
    "cv_scores = []\n",
    "\n",
    "# perform 10-fold cross validation\n",
    "for k in neighbors:\n",
    "    knn = KNeighborsClassifier(n_neighbors=k, weights='distance')\n",
    "    scores = cross_val_score(knn, X_train, y_train, cv=10, scoring='accuracy')\n",
    "    cv_scores.append(scores.mean()) \n",
    "error = np.array(1)-np.array(cv_scores)\n",
    "error = error.tolist()\n",
    "print(\"Cross Validation Scores\\n\",cv_scores)\n",
    "print(\"Error scores\\n\",error)\n",
    "k = error.index(min(error))*2 +1\n",
    "print(\"The value of n is\", k)\n",
    "print(\"Accuracy\",max(cv_scores)*100)"
   ]
  },
  {
   "cell_type": "code",
   "execution_count": 18,
   "metadata": {},
   "outputs": [
    {
     "name": "stdout",
     "output_type": "stream",
     "text": [
      "[[15  3  2]\n",
      " [ 3 11  0]\n",
      " [ 1  0 15]]\n"
     ]
    },
    {
     "data": {
      "text/plain": [
       "<matplotlib.axes._subplots.AxesSubplot at 0x1bda0f0e2e8>"
      ]
     },
     "execution_count": 18,
     "metadata": {},
     "output_type": "execute_result"
    },
    {
     "data": {
      "image/png": "[encoded data removed]",
      "text/plain": [
       "<Figure size 432x288 with 2 Axes>"
      ]
     },
     "metadata": {
      "needs_background": "light"
     },
     "output_type": "display_data"
    }
   ],
   "source": [
    "#Printing confusion matrix for kNN\n",
    "knn = KNeighborsClassifier(n_neighbors=3, weights='distance')\n",
    "knn.fit(X_train,y_train)\n",
    "prediction = knn.predict(X_test)\n",
    "cm = confusion_matrix(y_test, prediction)\n",
    "print(cm)\n",
    "print_confusion_matrix(cm, variety_names)"
   ]
  },
  {
   "cell_type": "code",
   "execution_count": 19,
   "metadata": {
    "scrolled": true
   },
   "outputs": [
    {
     "data": {
      "text/plain": [
       "Text(0.5, 1.0, 'Error Rate vs K Value')"
      ]
     },
     "execution_count": 19,
     "metadata": {},
     "output_type": "execute_result"
    },
    {
     "data": {
      "image/png": "[encoded data removed]",
      "text/plain": [
       "<Figure size 648x360 with 1 Axes>"
      ]
     },
     "metadata": {
      "needs_background": "light"
     },
     "output_type": "display_data"
    }
   ],
   "source": [
    "#Plotting k against error rate\n",
    "plt.figure(figsize=(9,5))\n",
    "plt.plot(neighbors, error, color= 'blue', marker='x', markerfacecolor='red', markersize=10)\n",
    "plt.title('Error Rate vs K Value')"
   ]
  },
  {
   "cell_type": "code",
   "execution_count": null,
   "metadata": {},
   "outputs": [
    {
     "data": {
      "text/plain": [
       "<seaborn.axisgrid.PairGrid at 0x1bda2fb7668>"
      ]
     },
     "execution_count": 20,
     "metadata": {},
     "output_type": "execute_result"
    }
   ],
   "source": [
    "#Pair plot to visualize the data\n",
    "sns.pairplot(data=df, hue='variety')"
   ]
  },
  {
   "cell_type": "code",
   "execution_count": null,
   "metadata": {},
   "outputs": [],
   "source": [
    "from sklearn.naive_bayes import GaussianNB"
   ]
  },
  {
   "cell_type": "code",
   "execution_count": null,
   "metadata": {},
   "outputs": [],
   "source": [
    "#K fold cross validation on Gaussian Model\n",
    "nbmodel = GaussianNB()"
   ]
  },
  {
   "cell_type": "code",
   "execution_count": null,
   "metadata": {},
   "outputs": [],
   "source": [
    "scores = cross_val_score(nbmodel, X_train, y_train, cv=10, scoring='accuracy')"
   ]
  },
  {
   "cell_type": "code",
   "execution_count": null,
   "metadata": {},
   "outputs": [],
   "source": [
    "print(scores)\n",
    "print(\"Accuracy\",round(scores.mean()*100))"
   ]
  },
  {
   "cell_type": "code",
   "execution_count": null,
   "metadata": {},
   "outputs": [],
   "source": [
    "#Heat map for confusion matrix\n",
    "nbmodel.fit(X_train, y_train)\n",
    "prediction = nbmodel.predict(X_test)\n",
    "cm = confusion_matrix(prediction, y_test)"
   ]
  },
  {
   "cell_type": "code",
   "execution_count": null,
   "metadata": {},
   "outputs": [],
   "source": [
    "print_confusion_matrix(cm, variety_names)"
   ]
  },
  {
   "cell_type": "code",
   "execution_count": null,
   "metadata": {},
   "outputs": [],
   "source": []
  }
 ],
 "metadata": {
  "kernelspec": {
   "display_name": "Python 3",
   "language": "python",
   "name": "python3"
  },
  "language_info": {
   "codemirror_mode": {
    "name": "ipython",
    "version": 3
   },
   "file_extension": ".py",
   "mimetype": "text/x-python",
   "name": "python",
   "nbconvert_exporter": "python",
   "pygments_lexer": "ipython3",
   "version": "3.7.3"
  }
 },
 "nbformat": 4,
 "nbformat_minor": 2
}
