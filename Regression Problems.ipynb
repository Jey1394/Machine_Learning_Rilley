{
 "cells": [
  {
   "cell_type": "code",
   "execution_count": 10,
   "metadata": {},
   "outputs": [],
   "source": [
    "import numpy as np\n",
    "import matplotlib.pyplot as plt\n",
    "import seaborn as sns\n",
    "sns.set_style('whitegrid')\n",
    "%matplotlib inline\n",
    "import pandas as pd\n",
    "from sklearn.svm import SVR\n",
    "from sklearn.metrics import mean_squared_error, r2_score, accuracy_score\n",
    "from sklearn.model_selection import GridSearchCV\n",
    "from sklearn.preprocessing import StandardScaler\n",
    "from sklearn.model_selection import train_test_split\n",
    "from sklearn.feature_selection import SelectKBest\n",
    "from sklearn.feature_selection import f_regression, mutual_info_regression\n",
    "from math import sqrt"
   ]
  },
  {
   "cell_type": "code",
   "execution_count": 4,
   "metadata": {},
   "outputs": [
    {
     "data": {
      "text/html": [
       "<div>\n",
       "<style scoped>\n",
       "    .dataframe tbody tr th:only-of-type {\n",
       "        vertical-align: middle;\n",
       "    }\n",
       "\n",
       "    .dataframe tbody tr th {\n",
       "        vertical-align: top;\n",
       "    }\n",
       "\n",
       "    .dataframe thead th {\n",
       "        text-align: right;\n",
       "    }\n",
       "</style>\n",
       "<table border=\"1\" class=\"dataframe\">\n",
       "  <thead>\n",
       "    <tr style=\"text-align: right;\">\n",
       "      <th></th>\n",
       "      <th>normalising_temperature</th>\n",
       "      <th>tempering_temperature</th>\n",
       "      <th>percent_silicon</th>\n",
       "      <th>percent_chromium</th>\n",
       "      <th>manufacture_year</th>\n",
       "      <th>percent_copper</th>\n",
       "      <th>percent_nickel</th>\n",
       "      <th>percent_sulphur</th>\n",
       "      <th>percent_carbon</th>\n",
       "      <th>percent_manganese</th>\n",
       "      <th>tensile_strength</th>\n",
       "    </tr>\n",
       "  </thead>\n",
       "  <tbody>\n",
       "    <tr>\n",
       "      <th>0</th>\n",
       "      <td>178.500</td>\n",
       "      <td>950</td>\n",
       "      <td>0.1530</td>\n",
       "      <td>1.212726</td>\n",
       "      <td>2010</td>\n",
       "      <td>0.942</td>\n",
       "      <td>0.8870</td>\n",
       "      <td>0.0</td>\n",
       "      <td>1.920</td>\n",
       "      <td>0.0</td>\n",
       "      <td>140.035334</td>\n",
       "    </tr>\n",
       "    <tr>\n",
       "      <th>1</th>\n",
       "      <td>178.500</td>\n",
       "      <td>375</td>\n",
       "      <td>0.1530</td>\n",
       "      <td>1.621165</td>\n",
       "      <td>1992</td>\n",
       "      <td>0.942</td>\n",
       "      <td>0.8870</td>\n",
       "      <td>0.0</td>\n",
       "      <td>1.920</td>\n",
       "      <td>0.0</td>\n",
       "      <td>42.217650</td>\n",
       "    </tr>\n",
       "    <tr>\n",
       "      <th>2</th>\n",
       "      <td>178.500</td>\n",
       "      <td>900</td>\n",
       "      <td>0.1530</td>\n",
       "      <td>0.809989</td>\n",
       "      <td>1991</td>\n",
       "      <td>0.942</td>\n",
       "      <td>0.8870</td>\n",
       "      <td>0.0</td>\n",
       "      <td>1.920</td>\n",
       "      <td>0.0</td>\n",
       "      <td>95.015309</td>\n",
       "    </tr>\n",
       "    <tr>\n",
       "      <th>3</th>\n",
       "      <td>189.525</td>\n",
       "      <td>900</td>\n",
       "      <td>0.1624</td>\n",
       "      <td>1.036229</td>\n",
       "      <td>2009</td>\n",
       "      <td>0.849</td>\n",
       "      <td>0.9382</td>\n",
       "      <td>0.0</td>\n",
       "      <td>2.035</td>\n",
       "      <td>0.0</td>\n",
       "      <td>113.266773</td>\n",
       "    </tr>\n",
       "    <tr>\n",
       "      <th>4</th>\n",
       "      <td>189.525</td>\n",
       "      <td>950</td>\n",
       "      <td>0.1624</td>\n",
       "      <td>0.935452</td>\n",
       "      <td>2004</td>\n",
       "      <td>0.849</td>\n",
       "      <td>0.9382</td>\n",
       "      <td>0.0</td>\n",
       "      <td>2.035</td>\n",
       "      <td>0.0</td>\n",
       "      <td>160.774427</td>\n",
       "    </tr>\n",
       "  </tbody>\n",
       "</table>\n",
       "</div>"
      ],
      "text/plain": [
       "   normalising_temperature  tempering_temperature  percent_silicon  \\\n",
       "0                  178.500                    950           0.1530   \n",
       "1                  178.500                    375           0.1530   \n",
       "2                  178.500                    900           0.1530   \n",
       "3                  189.525                    900           0.1624   \n",
       "4                  189.525                    950           0.1624   \n",
       "\n",
       "   percent_chromium  manufacture_year  percent_copper  percent_nickel  \\\n",
       "0          1.212726              2010           0.942          0.8870   \n",
       "1          1.621165              1992           0.942          0.8870   \n",
       "2          0.809989              1991           0.942          0.8870   \n",
       "3          1.036229              2009           0.849          0.9382   \n",
       "4          0.935452              2004           0.849          0.9382   \n",
       "\n",
       "   percent_sulphur  percent_carbon  percent_manganese  tensile_strength  \n",
       "0              0.0           1.920                0.0        140.035334  \n",
       "1              0.0           1.920                0.0         42.217650  \n",
       "2              0.0           1.920                0.0         95.015309  \n",
       "3              0.0           2.035                0.0        113.266773  \n",
       "4              0.0           2.035                0.0        160.774427  "
      ]
     },
     "execution_count": 4,
     "metadata": {},
     "output_type": "execute_result"
    }
   ],
   "source": [
    "af = pd.read_csv(\"dataset/steel.txt\", delimiter='\\t',encoding='latin1', na_values=\"n/a\")\n",
    "af.columns = ['normalising_temperature', 'tempering_temperature', 'sample_id', 'percent_silicon', 'percent_chromium', 'manufacture_year', 'percent_copper', 'percent_nickel', 'percent_sulphur', 'percent_carbon', 'percent_manganese', 'tensile_strength']\n",
    "df = af.drop('sample_id', axis = 1)\n",
    "df.head()"
   ]
  },
  {
   "cell_type": "code",
   "execution_count": 5,
   "metadata": {},
   "outputs": [
    {
     "data": {
      "text/html": [
       "<div>\n",
       "<style scoped>\n",
       "    .dataframe tbody tr th:only-of-type {\n",
       "        vertical-align: middle;\n",
       "    }\n",
       "\n",
       "    .dataframe tbody tr th {\n",
       "        vertical-align: top;\n",
       "    }\n",
       "\n",
       "    .dataframe thead th {\n",
       "        text-align: right;\n",
       "    }\n",
       "</style>\n",
       "<table border=\"1\" class=\"dataframe\">\n",
       "  <thead>\n",
       "    <tr style=\"text-align: right;\">\n",
       "      <th></th>\n",
       "      <th>normalising_temperature</th>\n",
       "      <th>tempering_temperature</th>\n",
       "      <th>percent_silicon</th>\n",
       "      <th>percent_chromium</th>\n",
       "      <th>manufacture_year</th>\n",
       "      <th>percent_copper</th>\n",
       "      <th>percent_nickel</th>\n",
       "      <th>percent_sulphur</th>\n",
       "      <th>percent_carbon</th>\n",
       "      <th>percent_manganese</th>\n",
       "    </tr>\n",
       "  </thead>\n",
       "  <tbody>\n",
       "    <tr>\n",
       "      <th>0</th>\n",
       "      <td>-1.855504</td>\n",
       "      <td>0.762359</td>\n",
       "      <td>1.108055</td>\n",
       "      <td>-0.251285</td>\n",
       "      <td>1.439492</td>\n",
       "      <td>2.318687</td>\n",
       "      <td>-1.155916</td>\n",
       "      <td>-1.073563</td>\n",
       "      <td>0.555803</td>\n",
       "      <td>-0.928403</td>\n",
       "    </tr>\n",
       "    <tr>\n",
       "      <th>1</th>\n",
       "      <td>-1.855504</td>\n",
       "      <td>-1.462678</td>\n",
       "      <td>1.108055</td>\n",
       "      <td>1.319930</td>\n",
       "      <td>-1.366628</td>\n",
       "      <td>2.318687</td>\n",
       "      <td>-1.155916</td>\n",
       "      <td>-1.073563</td>\n",
       "      <td>0.555803</td>\n",
       "      <td>-0.928403</td>\n",
       "    </tr>\n",
       "    <tr>\n",
       "      <th>2</th>\n",
       "      <td>-1.855504</td>\n",
       "      <td>0.568878</td>\n",
       "      <td>1.108055</td>\n",
       "      <td>-1.800567</td>\n",
       "      <td>-1.522523</td>\n",
       "      <td>2.318687</td>\n",
       "      <td>-1.155916</td>\n",
       "      <td>-1.073563</td>\n",
       "      <td>0.555803</td>\n",
       "      <td>-0.928403</td>\n",
       "    </tr>\n",
       "    <tr>\n",
       "      <th>3</th>\n",
       "      <td>-1.787370</td>\n",
       "      <td>0.568878</td>\n",
       "      <td>1.224730</td>\n",
       "      <td>-0.930247</td>\n",
       "      <td>1.283596</td>\n",
       "      <td>0.956205</td>\n",
       "      <td>-0.465711</td>\n",
       "      <td>-1.073563</td>\n",
       "      <td>1.176183</td>\n",
       "      <td>-0.928403</td>\n",
       "    </tr>\n",
       "    <tr>\n",
       "      <th>4</th>\n",
       "      <td>-1.787370</td>\n",
       "      <td>0.762359</td>\n",
       "      <td>1.224730</td>\n",
       "      <td>-1.317926</td>\n",
       "      <td>0.504119</td>\n",
       "      <td>0.956205</td>\n",
       "      <td>-0.465711</td>\n",
       "      <td>-1.073563</td>\n",
       "      <td>1.176183</td>\n",
       "      <td>-0.928403</td>\n",
       "    </tr>\n",
       "  </tbody>\n",
       "</table>\n",
       "</div>"
      ],
      "text/plain": [
       "   normalising_temperature  tempering_temperature  percent_silicon  \\\n",
       "0                -1.855504               0.762359         1.108055   \n",
       "1                -1.855504              -1.462678         1.108055   \n",
       "2                -1.855504               0.568878         1.108055   \n",
       "3                -1.787370               0.568878         1.224730   \n",
       "4                -1.787370               0.762359         1.224730   \n",
       "\n",
       "   percent_chromium  manufacture_year  percent_copper  percent_nickel  \\\n",
       "0         -0.251285          1.439492        2.318687       -1.155916   \n",
       "1          1.319930         -1.366628        2.318687       -1.155916   \n",
       "2         -1.800567         -1.522523        2.318687       -1.155916   \n",
       "3         -0.930247          1.283596        0.956205       -0.465711   \n",
       "4         -1.317926          0.504119        0.956205       -0.465711   \n",
       "\n",
       "   percent_sulphur  percent_carbon  percent_manganese  \n",
       "0        -1.073563        0.555803          -0.928403  \n",
       "1        -1.073563        0.555803          -0.928403  \n",
       "2        -1.073563        0.555803          -0.928403  \n",
       "3        -1.073563        1.176183          -0.928403  \n",
       "4        -1.073563        1.176183          -0.928403  "
      ]
     },
     "execution_count": 5,
     "metadata": {},
     "output_type": "execute_result"
    }
   ],
   "source": [
    "scaler = StandardScaler() \n",
    "scaler.fit(df.drop('tensile_strength', axis = 1))\n",
    "scaledfeatures = scaler.transform(df.drop('tensile_strength', axis = 1))\n",
    "df_features = pd.DataFrame(scaledfeatures, columns = df.columns[:-1])\n",
    "df_features.head()"
   ]
  },
  {
   "cell_type": "code",
   "execution_count": 4,
   "metadata": {},
   "outputs": [],
   "source": [
    "# df_features = pd.DataFrame(df)\n",
    "# df_features.head()"
   ]
  },
  {
   "cell_type": "code",
   "execution_count": 6,
   "metadata": {},
   "outputs": [],
   "source": [
    "X = np.array(df_features) \n",
    "y = np.array(df['tensile_strength'])"
   ]
  },
  {
   "cell_type": "code",
   "execution_count": 7,
   "metadata": {},
   "outputs": [],
   "source": [
    "X_train, X_test, y_train, y_test = train_test_split(X, y, random_state = 42, test_size = 0.33)"
   ]
  },
  {
   "cell_type": "code",
   "execution_count": 11,
   "metadata": {},
   "outputs": [
    {
     "data": {
      "text/plain": [
       "SVR(C=1.0, cache_size=200, coef0=0.0, degree=3, epsilon=0.1, gamma='auto',\n",
       "    kernel='rbf', max_iter=-1, shrinking=True, tol=0.001, verbose=False)"
      ]
     },
     "execution_count": 11,
     "metadata": {},
     "output_type": "execute_result"
    }
   ],
   "source": [
    "svr = SVR(gamma='auto')\n",
    "svr.fit(X, y)"
   ]
  },
  {
   "cell_type": "code",
   "execution_count": 12,
   "metadata": {},
   "outputs": [],
   "source": [
    "y_test_pred = svr.predict(X_test)\n",
    "y_train_pred = svr.predict(X_train)"
   ]
  },
  {
   "cell_type": "code",
   "execution_count": 13,
   "metadata": {},
   "outputs": [
    {
     "name": "stdout",
     "output_type": "stream",
     "text": [
      "MSE train: 77.5960, test: 83.2784\n",
      "R^2 train: 0.2486, test: 0.2067\n"
     ]
    }
   ],
   "source": [
    "print(\"MSE train: {0:.4f}, test: {1:.4f}\".\\\n",
    "      format(sqrt(mean_squared_error(y_train, y_train_pred)), \n",
    "             sqrt(mean_squared_error(y_test, y_test_pred))))\n",
    "print(\"R^2 train: {0:.4f}, test: {1:.4f}\".\\\n",
    "      format(r2_score(y_train, y_train_pred),\n",
    "             r2_score(y_test, y_test_pred)))"
   ]
  },
  {
   "cell_type": "code",
   "execution_count": 14,
   "metadata": {},
   "outputs": [
    {
     "data": {
      "text/plain": [
       "SVR(C=1000.0, cache_size=200, coef0=0.0, degree=2, epsilon=0.1, gamma='auto',\n",
       "    kernel='poly', max_iter=-1, shrinking=True, tol=0.001, verbose=False)"
      ]
     },
     "execution_count": 14,
     "metadata": {},
     "output_type": "execute_result"
    }
   ],
   "source": [
    "svr = SVR(kernel='poly', C=1e3, degree=2, gamma='auto')\n",
    "svr.fit(X_train, y_train)"
   ]
  },
  {
   "cell_type": "code",
   "execution_count": 13,
   "metadata": {},
   "outputs": [],
   "source": [
    "y_train_pred = svr.predict(X_train)\n",
    "y_test_pred = svr.predict(X_test)"
   ]
  },
  {
   "cell_type": "code",
   "execution_count": 15,
   "metadata": {},
   "outputs": [
    {
     "name": "stdout",
     "output_type": "stream",
     "text": [
      "MSE train: 77.5960, test: 83.2784\n",
      "R^2 train: 0.2486, test: 0.2067\n"
     ]
    }
   ],
   "source": [
    "print(\"MSE train: {0:.4f}, test: {1:.4f}\".\\\n",
    "      format(sqrt(mean_squared_error(y_train, y_train_pred)), \n",
    "             sqrt(mean_squared_error(y_test, y_test_pred))))\n",
    "print(\"R^2 train: {0:.4f}, test: {1:.4f}\".\\\n",
    "      format(r2_score(y_train, y_train_pred),\n",
    "             r2_score(y_test, y_test_pred)))"
   ]
  },
  {
   "cell_type": "code",
   "execution_count": 16,
   "metadata": {},
   "outputs": [
    {
     "data": {
      "text/plain": [
       "SVR(C=1000.0, cache_size=200, coef0=0.0, degree=3, epsilon=0.1, gamma=0.1,\n",
       "    kernel='rbf', max_iter=-1, shrinking=True, tol=0.001, verbose=False)"
      ]
     },
     "execution_count": 16,
     "metadata": {},
     "output_type": "execute_result"
    }
   ],
   "source": [
    "svr = SVR(kernel='rbf', C=1e3, gamma=0.1)\n",
    "svr.fit(X_train, y_train)"
   ]
  },
  {
   "cell_type": "code",
   "execution_count": 17,
   "metadata": {},
   "outputs": [],
   "source": [
    "y_train_pred = svr.predict(X_train)\n",
    "y_test_pred = svr.predict(X_test)"
   ]
  },
  {
   "cell_type": "code",
   "execution_count": 19,
   "metadata": {},
   "outputs": [
    {
     "name": "stdout",
     "output_type": "stream",
     "text": [
      "MSE train: 11.9971, test: 36.5521\n",
      "R^2 train: 0.9820, test: 0.8472\n"
     ]
    }
   ],
   "source": [
    "print(\"MSE train: {0:.4f}, test: {1:.4f}\".\\\n",
    "      format(sqrt(mean_squared_error(y_train, y_train_pred)), \n",
    "             sqrt(mean_squared_error(y_test, y_test_pred))))\n",
    "print(\"R^2 train: {0:.4f}, test: {1:.4f}\".\\\n",
    "      format(r2_score(y_train, y_train_pred),\n",
    "             r2_score(y_test, y_test_pred)))"
   ]
  },
  {
   "cell_type": "code",
   "execution_count": 20,
   "metadata": {},
   "outputs": [],
   "source": [
    "X_new = SelectKBest(f_regression, k=8).fit_transform(X, y)"
   ]
  },
  {
   "cell_type": "code",
   "execution_count": 21,
   "metadata": {},
   "outputs": [
    {
     "data": {
      "text/plain": [
       "(552, 8)"
      ]
     },
     "execution_count": 21,
     "metadata": {},
     "output_type": "execute_result"
    }
   ],
   "source": [
    "X_new.shape"
   ]
  },
  {
   "cell_type": "code",
   "execution_count": 22,
   "metadata": {},
   "outputs": [],
   "source": [
    "X_train, X_test, y_train, y_test = train_test_split(X_new, y, random_state = 42, test_size = 0.33)"
   ]
  },
  {
   "cell_type": "code",
   "execution_count": 23,
   "metadata": {},
   "outputs": [
    {
     "data": {
      "text/plain": [
       "SVR(C=1.0, cache_size=200, coef0=0.0, degree=3, epsilon=0.1, gamma='auto',\n",
       "    kernel='rbf', max_iter=-1, shrinking=True, tol=0.001, verbose=False)"
      ]
     },
     "execution_count": 23,
     "metadata": {},
     "output_type": "execute_result"
    }
   ],
   "source": [
    "svr = SVR(gamma='auto')\n",
    "svr.fit(X_new, y)"
   ]
  },
  {
   "cell_type": "code",
   "execution_count": 24,
   "metadata": {},
   "outputs": [],
   "source": [
    "y_test_pred = svr.predict(X_test)\n",
    "y_train_pred = svr.predict(X_train)"
   ]
  },
  {
   "cell_type": "code",
   "execution_count": 25,
   "metadata": {},
   "outputs": [
    {
     "name": "stdout",
     "output_type": "stream",
     "text": [
      "MSE train: 74.9116, test: 81.2562\n",
      "R^2 train: 0.2997, test: 0.2448\n"
     ]
    }
   ],
   "source": [
    "print(\"MSE train: {0:.4f}, test: {1:.4f}\".\\\n",
    "      format(sqrt(mean_squared_error(y_train, y_train_pred)), \n",
    "             sqrt(mean_squared_error(y_test, y_test_pred))))\n",
    "print(\"R^2 train: {0:.4f}, test: {1:.4f}\".\\\n",
    "      format(r2_score(y_train, y_train_pred),\n",
    "             r2_score(y_test, y_test_pred)))"
   ]
  },
  {
   "cell_type": "code",
   "execution_count": 26,
   "metadata": {},
   "outputs": [
    {
     "data": {
      "text/plain": [
       "SVR(C=1000.0, cache_size=200, coef0=0.0, degree=2, epsilon=0.1, gamma='auto',\n",
       "    kernel='poly', max_iter=-1, shrinking=True, tol=0.001, verbose=False)"
      ]
     },
     "execution_count": 26,
     "metadata": {},
     "output_type": "execute_result"
    }
   ],
   "source": [
    "svr = SVR(kernel='poly', C=1e3, degree=2, gamma='auto')\n",
    "svr.fit(X_train, y_train)"
   ]
  },
  {
   "cell_type": "code",
   "execution_count": 27,
   "metadata": {},
   "outputs": [],
   "source": [
    "y_train_pred = svr.predict(X_train)\n",
    "y_test_pred = svr.predict(X_test)"
   ]
  },
  {
   "cell_type": "code",
   "execution_count": 28,
   "metadata": {},
   "outputs": [
    {
     "name": "stdout",
     "output_type": "stream",
     "text": [
      "MSE train: 60.4617, test: 74.2645\n",
      "R^2 train: 0.5438, test: 0.3692\n"
     ]
    }
   ],
   "source": [
    "print(\"MSE train: {0:.4f}, test: {1:.4f}\".\\\n",
    "      format(sqrt(mean_squared_error(y_train, y_train_pred)), \n",
    "             sqrt(mean_squared_error(y_test, y_test_pred))))\n",
    "print(\"R^2 train: {0:.4f}, test: {1:.4f}\".\\\n",
    "      format(r2_score(y_train, y_train_pred),\n",
    "             r2_score(y_test, y_test_pred)))"
   ]
  },
  {
   "cell_type": "code",
   "execution_count": 29,
   "metadata": {},
   "outputs": [
    {
     "data": {
      "text/plain": [
       "SVR(C=1000.0, cache_size=200, coef0=0.0, degree=3, epsilon=0.1, gamma=0.1,\n",
       "    kernel='rbf', max_iter=-1, shrinking=True, tol=0.001, verbose=False)"
      ]
     },
     "execution_count": 29,
     "metadata": {},
     "output_type": "execute_result"
    }
   ],
   "source": [
    "svr = SVR(kernel='rbf', C=1e3, gamma=0.1)\n",
    "svr.fit(X_train, y_train)"
   ]
  },
  {
   "cell_type": "code",
   "execution_count": 30,
   "metadata": {},
   "outputs": [],
   "source": [
    "y_train_pred = svr.predict(X_train)\n",
    "y_test_pred = svr.predict(X_test)"
   ]
  },
  {
   "cell_type": "code",
   "execution_count": 31,
   "metadata": {},
   "outputs": [
    {
     "name": "stdout",
     "output_type": "stream",
     "text": [
      "MSE train: 17.6205, test: 35.0022\n",
      "R^2 train: 0.9613, test: 0.8599\n"
     ]
    }
   ],
   "source": [
    "print(\"MSE train: {0:.4f}, test: {1:.4f}\".\\\n",
    "      format(sqrt(mean_squared_error(y_train, y_train_pred)), \n",
    "             sqrt(mean_squared_error(y_test, y_test_pred))))\n",
    "print(\"R^2 train: {0:.4f}, test: {1:.4f}\".\\\n",
    "      format(r2_score(y_train, y_train_pred),\n",
    "             r2_score(y_test, y_test_pred)))"
   ]
  },
  {
   "cell_type": "code",
   "execution_count": 74,
   "metadata": {},
   "outputs": [
    {
     "name": "stdout",
     "output_type": "stream",
     "text": [
      "Tuning hyper-parameters\n"
     ]
    }
   ],
   "source": [
    "parameters = [{'kernel': ['rbf'], 'gamma': [0.1,0.01,0.001],'C': [1, 10, 100, 1000, 10000, 1e3, 1e4, 1e5, 1e6], 'degree':[1,2,3,4], \n",
    "              'epsilon':[0.1, 0.01,0.001]}]\n",
    "print(\"Tuning hyper-parameters\")\n",
    "from sklearn.metrics import make_scorer\n",
    "scorer = make_scorer(mean_squared_error, greater_is_better=False)\n",
    "svr = GridSearchCV(SVR(), parameters, cv = 10,scoring=scorer)\n",
    "#svr = GridSearchCV(SVR(epsilon = 0.01), parameters, cv = 10)"
   ]
  },
  {
   "cell_type": "code",
   "execution_count": 75,
   "metadata": {},
   "outputs": [
    {
     "name": "stderr",
     "output_type": "stream",
     "text": [
      "C:\\Users\\user\\Anaconda3\\lib\\site-packages\\sklearn\\model_selection\\_search.py:813: DeprecationWarning: The default of the `iid` parameter will change from True to False in version 0.22 and will be removed in 0.24. This will change numeric results when test-set sizes are unequal.\n",
      "  DeprecationWarning)\n"
     ]
    },
    {
     "data": {
      "text/plain": [
       "GridSearchCV(cv=10, error_score='raise-deprecating',\n",
       "             estimator=SVR(C=1.0, cache_size=200, coef0=0.0, degree=3,\n",
       "                           epsilon=0.1, gamma='auto_deprecated', kernel='rbf',\n",
       "                           max_iter=-1, shrinking=True, tol=0.001,\n",
       "                           verbose=False),\n",
       "             iid='warn', n_jobs=None,\n",
       "             param_grid=[{'C': [1, 10, 100, 1000, 10000, 1000.0, 10000.0,\n",
       "                                100000.0, 1000000.0],\n",
       "                          'degree': [1, 2, 3, 4], 'epsilon': [0.1, 0.01, 0.001],\n",
       "                          'gamma': [0.1, 0.01, 0.001], 'kernel': ['rbf']}],\n",
       "             pre_dispatch='2*n_jobs', refit=True, return_train_score=False,\n",
       "             scoring=make_scorer(mean_squared_error, greater_is_better=False),\n",
       "             verbose=0)"
      ]
     },
     "execution_count": 75,
     "metadata": {},
     "output_type": "execute_result"
    }
   ],
   "source": [
    "svr.fit(X_train, y_train)"
   ]
  },
  {
   "cell_type": "code",
   "execution_count": 76,
   "metadata": {},
   "outputs": [
    {
     "data": {
      "text/plain": [
       "SVR(C=1000, cache_size=200, coef0=0.0, degree=1, epsilon=0.1, gamma=0.1,\n",
       "    kernel='rbf', max_iter=-1, shrinking=True, tol=0.001, verbose=False)"
      ]
     },
     "execution_count": 76,
     "metadata": {},
     "output_type": "execute_result"
    }
   ],
   "source": [
    "svr.best_estimator_"
   ]
  },
  {
   "cell_type": "code",
   "execution_count": 77,
   "metadata": {},
   "outputs": [
    {
     "data": {
      "text/plain": [
       "SVR(C=1000, cache_size=200, coef0=0.0, degree=1, epsilon=0.1, gamma=0.1,\n",
       "    kernel='rbf', max_iter=-1, shrinking=True, tol=0.001, verbose=False)"
      ]
     },
     "execution_count": 77,
     "metadata": {},
     "output_type": "execute_result"
    }
   ],
   "source": [
    "model = SVR(C=1000, cache_size=200, coef0=0.0, degree=1, epsilon=0.1, gamma=0.1,\n",
    "    kernel='rbf', max_iter=-1, shrinking=True, tol=0.001, verbose=False)\n",
    "model.fit(X_train, y_train)"
   ]
  },
  {
   "cell_type": "code",
   "execution_count": 78,
   "metadata": {},
   "outputs": [],
   "source": [
    "y_train_pred = model.predict(X_train)\n",
    "y_test_pred = model.predict(X_test)"
   ]
  },
  {
   "cell_type": "code",
   "execution_count": 79,
   "metadata": {},
   "outputs": [
    {
     "name": "stdout",
     "output_type": "stream",
     "text": [
      "MSE train: 17.6205, test: 35.0022\n",
      "R^2 train: 0.9613, test: 0.8599\n"
     ]
    }
   ],
   "source": [
    "print(\"MSE train: {0:.4f}, test: {1:.4f}\".\\\n",
    "      format(sqrt(mean_squared_error(y_train, y_train_pred)), \n",
    "             sqrt(mean_squared_error(y_test, y_test_pred))))\n",
    "print(\"R^2 train: {0:.4f}, test: {1:.4f}\".\\\n",
    "      format(r2_score(y_train, y_train_pred),\n",
    "             r2_score(y_test, y_test_pred)))"
   ]
  },
  {
   "cell_type": "code",
   "execution_count": null,
   "metadata": {},
   "outputs": [],
   "source": []
  }
 ],
 "metadata": {
  "kernelspec": {
   "display_name": "Python 3",
   "language": "python",
   "name": "python3"
  },
  "language_info": {
   "codemirror_mode": {
    "name": "ipython",
    "version": 3
   },
   "file_extension": ".py",
   "mimetype": "text/x-python",
   "name": "python",
   "nbconvert_exporter": "python",
   "pygments_lexer": "ipython3",
   "version": "3.7.3"
  }
 },
 "nbformat": 4,
 "nbformat_minor": 2
}
